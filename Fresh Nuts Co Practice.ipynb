{
 "cells": [
  {
   "cell_type": "code",
   "execution_count": 1,
   "id": "79324383",
   "metadata": {},
   "outputs": [],
   "source": [
    "Nuts = { 'Almond', 'Brazil Nut', 'Cashew', 'Hazelnut', 'Pistachio' }\n",
    "\n",
    "Nutrients = ['Calories', 'Protein', 'Total_Fat', 'Carbohydrates', 'Dietary_Fiber']\n",
    "\n",
    "Cost = { 'Almond' : 8.02, 'Brazil Nut' : 7.4, 'Cashew' : 8.5, 'Hazelnut' : 7.75, 'Pistachio' : 7.3}\n",
    "\n",
    "Nut_Nutrients = {'Calories' : {'Almond' : 163, 'Brazil Nut' : 186, 'Cashew' : 157, 'Hazelnut' : 178, 'Pistachio' : 204},\n",
    "                 'Protein' : {'Almond' : 6.0, 'Brazil Nut' : 4.1, 'Cashew' : 5.2, 'Hazelnut' : 4.2, 'Pistachio' : 2.2},\n",
    "                 'Total_Fat' : {'Almond' : 14.0, 'Brazil Nut' : 18.8, 'Cashew' : 12.4, 'Hazelnut' : 17.2, 'Pistachio' : 21.5},\n",
    "                 'Carbohydrates' : {'Almond' : 6.1, 'Brazil Nut' : 3.5, 'Cashew' : 8.6, 'Hazelnut' : 4.7, 'Pistachio' : 3.9},\n",
    "                 'Dietary_Fiber' : {'Almond' : 3.5, 'Brazil Nut' : 2.1, 'Cashew' : 0.9, 'Hazelnut' : 2.7, 'Pistachio' : 2.4}}\n",
    "\n",
    "Requirements = {'Calories' : ('<=', 200),\n",
    "                'Protein' : ('>=', 3),\n",
    "                'Total_Fat' : ('<=', 20),\n",
    "                'Carbohydrates' : ('<=', 8),\n",
    "                'Dietary_Fiber' : ('>=', 1)}"
   ]
  },
  {
   "cell_type": "code",
   "execution_count": 2,
   "id": "c49e5618",
   "metadata": {},
   "outputs": [],
   "source": [
    "from docplex.mp.model import Model"
   ]
  },
  {
   "cell_type": "code",
   "execution_count": 3,
   "id": "2d895986",
   "metadata": {},
   "outputs": [],
   "source": [
    "mdl = Model()"
   ]
  },
  {
   "cell_type": "code",
   "execution_count": 4,
   "id": "17e4f227",
   "metadata": {},
   "outputs": [],
   "source": [
    "#variable\n",
    "amount = mdl.continuous_var_dict(Nuts, lb = 0, name = \"amount\")"
   ]
  },
  {
   "cell_type": "code",
   "execution_count": 7,
   "id": "adfd6b84",
   "metadata": {},
   "outputs": [],
   "source": [
    "#objective\n",
    "mdl.minimize(mdl.sum(amount[n]*Cost[n] for n in Nuts))"
   ]
  },
  {
   "cell_type": "code",
   "execution_count": 8,
   "id": "fa4e95bb",
   "metadata": {},
   "outputs": [],
   "source": [
    "#constraints\n",
    "for nutrient in Nut_Nutrients:\n",
    "    if Requirements[nutrient][0] == '<=':\n",
    "        mdl.add_constraint(mdl.sum(Nut_Nutrients[nutrient][nut]*amount[nut] for nut in Nuts) <= Requirements[nutrient][1])\n",
    "    elif Requirements[nutrient][0] == '>=':\n",
    "        mdl.add_constraint(mdl.sum(Nut_Nutrients[nutrient][nut]*amount[nut] for nut in Nuts) >= Requirements[nutrient][1])\n",
    "    else:\n",
    "        print('Error, check Requirements or Nutrients')"
   ]
  },
  {
   "cell_type": "code",
   "execution_count": 9,
   "id": "3b5c7fff",
   "metadata": {},
   "outputs": [
    {
     "data": {
      "text/plain": [
       "docplex.mp.LinearConstraint[](amount_Almond+amount_Pistachio+amount_Hazelnut+amount_Brazil Nut+amount_Cashew,EQ,1)"
      ]
     },
     "execution_count": 9,
     "metadata": {},
     "output_type": "execute_result"
    }
   ],
   "source": [
    "#total amount constraint\n",
    "mdl.add_constraint(mdl.sum(amount[n] for n in Nuts) == 1)"
   ]
  },
  {
   "cell_type": "code",
   "execution_count": 10,
   "id": "ff8ca3b0",
   "metadata": {},
   "outputs": [
    {
     "data": {
      "text/plain": [
       "docplex.mp.solution.SolveSolution(obj=7.35556,values={amount_Pistachio:0.."
      ]
     },
     "execution_count": 10,
     "metadata": {},
     "output_type": "execute_result"
    }
   ],
   "source": [
    "mdl.solve()"
   ]
  },
  {
   "cell_type": "code",
   "execution_count": 11,
   "id": "25402b50",
   "metadata": {},
   "outputs": [
    {
     "data": {
      "text/plain": [
       "docplex.mp.SolveDetails(time=0,status='optimal')"
      ]
     },
     "execution_count": 11,
     "metadata": {},
     "output_type": "execute_result"
    }
   ],
   "source": [
    "mdl.get_solve_details()"
   ]
  },
  {
   "cell_type": "code",
   "execution_count": 12,
   "id": "7a92b654",
   "metadata": {},
   "outputs": [
    {
     "name": "stdout",
     "output_type": "stream",
     "text": [
      "objective: 7.356\n",
      "status: OPTIMAL_SOLUTION(2)\n",
      "  \"amount_Pistachio\"=0.444\n",
      "  \"amount_Brazil Nut\"=0.556\n"
     ]
    }
   ],
   "source": [
    "mdl.print_solution()"
   ]
  }
 ],
 "metadata": {
  "kernelspec": {
   "display_name": "Python 3 (ipykernel)",
   "language": "python",
   "name": "python3"
  },
  "language_info": {
   "codemirror_mode": {
    "name": "ipython",
    "version": 3
   },
   "file_extension": ".py",
   "mimetype": "text/x-python",
   "name": "python",
   "nbconvert_exporter": "python",
   "pygments_lexer": "ipython3",
   "version": "3.9.16"
  }
 },
 "nbformat": 4,
 "nbformat_minor": 5
}
