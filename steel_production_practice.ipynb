{
 "cells": [
  {
   "cell_type": "code",
   "execution_count": 1,
   "metadata": {},
   "outputs": [],
   "source": [
    "# Transportation Problem: data\n",
    "Weeks = ['Week 1', 'Week 2', 'Week 3', 'Week 4']\n",
    "Clients = ['Client A', 'Client B', 'Client C']\n",
    "\n",
    "Price = {\n",
    "    ('Week 1', 'Client A') : 25,\n",
    "    ('Week 1', 'Client B') : 30,\n",
    "    ('Week 1', 'Client C') : 26,\n",
    "    ('Week 2', 'Client A') : 22.5,\n",
    "    ('Week 2', 'Client B') : 25,\n",
    "    ('Week 2', 'Client C') : 24,\n",
    "    ('Week 3', 'Client A') : 17.5,\n",
    "    ('Week 3', 'Client B') : 20,\n",
    "    ('Week 3', 'Client C') : 22,\n",
    "    ('Week 4', 'Client A') : 15,\n",
    "    ('Week 4', 'Client B') : 15,\n",
    "    ('Week 4', 'Client C') : 20\n",
    "}\n",
    "\n",
    "Supply = {\n",
    "    'Week 1' : 50,\n",
    "    'Week 2' : 50,    \n",
    "    'Week 3' : 50,   \n",
    "    'Week 4' : 50    \n",
    "}\n",
    "\n",
    "Demand = {\n",
    "    'Client A' : 60,\n",
    "    'Client B' : 75,\n",
    "    'Client C' : 45,\n",
    "}"
   ]
  },
  {
   "cell_type": "code",
   "execution_count": 2,
   "metadata": {},
   "outputs": [],
   "source": [
    "from docplex.mp.model import Model\n",
    "mdl = Model()"
   ]
  },
  {
   "cell_type": "code",
   "execution_count": 3,
   "metadata": {},
   "outputs": [],
   "source": [
    "deliver = mdl.continuous_var_matrix(Weeks, Clients, lb = 0, name = 'deliver')"
   ]
  },
  {
   "cell_type": "code",
   "execution_count": 4,
   "metadata": {},
   "outputs": [],
   "source": [
    "mdl.maximize(mdl.sum(Price[(w,c)]*deliver[(w,c)] for w in Weeks for c in Clients))"
   ]
  },
  {
   "cell_type": "code",
   "execution_count": 5,
   "metadata": {},
   "outputs": [],
   "source": [
    "for c in Clients:\n",
    "    mdl.add_constraint(mdl.sum(deliver[(w,c)] for w in Weeks) == Demand[c])"
   ]
  },
  {
   "cell_type": "code",
   "execution_count": 6,
   "metadata": {},
   "outputs": [],
   "source": [
    "for w in Weeks:\n",
    "    mdl.add_constraint(mdl.sum(deliver[(w,c)] for c in Clients) <= Supply[w])"
   ]
  },
  {
   "cell_type": "code",
   "execution_count": 7,
   "metadata": {},
   "outputs": [
    {
     "data": {
      "text/plain": [
       "docplex.mp.solution.SolveSolution(obj=4230,values={deliver_Week 1_Client.."
      ]
     },
     "execution_count": 7,
     "metadata": {},
     "output_type": "execute_result"
    }
   ],
   "source": [
    "mdl.solve()"
   ]
  },
  {
   "cell_type": "code",
   "execution_count": 8,
   "metadata": {},
   "outputs": [
    {
     "data": {
      "text/plain": [
       "docplex.mp.SolveDetails(time=0,status='optimal')"
      ]
     },
     "execution_count": 8,
     "metadata": {},
     "output_type": "execute_result"
    }
   ],
   "source": [
    "mdl.get_solve_details()"
   ]
  },
  {
   "cell_type": "code",
   "execution_count": 9,
   "metadata": {},
   "outputs": [
    {
     "name": "stdout",
     "output_type": "stream",
     "text": [
      "objective: 4230.000\n",
      "status: OPTIMAL_SOLUTION(2)\n",
      "  \"deliver_Week 1_Client B\"=50.000\n",
      "  \"deliver_Week 2_Client A\"=25.000\n",
      "  \"deliver_Week 2_Client B\"=25.000\n",
      "  \"deliver_Week 3_Client A\"=35.000\n",
      "  \"deliver_Week 3_Client C\"=15.000\n",
      "  \"deliver_Week 4_Client C\"=30.000\n"
     ]
    }
   ],
   "source": [
    "mdl.print_solution()"
   ]
  }
 ],
 "metadata": {
  "kernelspec": {
   "display_name": "Python 3 (ipykernel)",
   "language": "python",
   "name": "python3"
  },
  "language_info": {
   "codemirror_mode": {
    "name": "ipython",
    "version": 3
   },
   "file_extension": ".py",
   "mimetype": "text/x-python",
   "name": "python",
   "nbconvert_exporter": "python",
   "pygments_lexer": "ipython3",
   "version": "3.9.16"
  }
 },
 "nbformat": 4,
 "nbformat_minor": 2
}
