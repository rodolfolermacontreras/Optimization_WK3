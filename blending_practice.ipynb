{
 "cells": [
  {
   "cell_type": "markdown",
   "metadata": {},
   "source": [
    "<b>Blending: Gasoline blending</b>"
   ]
  },
  {
   "cell_type": "code",
   "execution_count": 2,
   "metadata": {},
   "outputs": [],
   "source": [
    "# Data on products:\n",
    "Products = {'Regular', 'Plus', 'Premium'}\n",
    "MinRating = {'Regular' : 87, 'Plus' : 89, 'Premium' : 93 }\n",
    "MinDeliver = {'Regular' : 60000, 'Plus' : 25000, 'Premium' : 15000}\n",
    "MaxDeliver = {'Regular' : 80000, 'Plus' : 70000, 'Premium' : 40000}\n",
    "Price = {'Regular' : 48, 'Plus' : 50, 'Premium' : 53}\n",
    "\n",
    "# Data on components:\n",
    "Components = {'C1', 'C2', 'C3', 'C4'}\n",
    "Rating = {'C1' : 86, 'C2' : 96, 'C3' : 85, 'C4' : 94}\n",
    "Supply = {'C1' : 70000, 'C2' : 50000, 'C3' : 40000, 'C4' : 30000}\n",
    "Cost = {'C1' : 33, 'C2' : 37, 'C3' :  32, 'C4' : 35}"
   ]
  },
  {
   "cell_type": "code",
   "execution_count": 1,
   "metadata": {},
   "outputs": [],
   "source": [
    "from docplex.mp.model import Model\n",
    "mdl = Model()"
   ]
  },
  {
   "cell_type": "code",
   "execution_count": 3,
   "metadata": {},
   "outputs": [],
   "source": [
    "# variables\n",
    "InBlend = mdl.continuous_var_matrix(Components, Products, lb=0, name='InBlend')"
   ]
  },
  {
   "cell_type": "code",
   "execution_count": 4,
   "metadata": {},
   "outputs": [],
   "source": [
    "#Objective\n",
    "\n",
    "TotalRevenue = mdl.sum(InBlend[(c,p)] * Price[p] for c in Components for p in Products) \n",
    "TotalCost = mdl.sum(InBlend[(c,p)] * Cost[c] for c in Components for p in Products) \n",
    "TotalProfit = TotalRevenue - TotalCost\n",
    "mdl.maximize(TotalProfit)"
   ]
  },
  {
   "cell_type": "code",
   "execution_count": 5,
   "metadata": {},
   "outputs": [
    {
     "data": {
      "text/plain": [
       "DecisionKPI(name=Total Profit,expr=18InBlend_C4_Premium+13InBlend_C4_Regular+15InBlend_C4_Plus+21In..)"
      ]
     },
     "execution_count": 5,
     "metadata": {},
     "output_type": "execute_result"
    }
   ],
   "source": [
    "mdl.add_kpi(TotalRevenue, 'Total Revenue')\n",
    "mdl.add_kpi(TotalCost, 'Total Cost')\n",
    "mdl.add_kpi(TotalProfit, 'Total Profit')"
   ]
  },
  {
   "cell_type": "code",
   "execution_count": 7,
   "metadata": {},
   "outputs": [],
   "source": [
    "#min & max\n",
    "for p in Products:\n",
    "    mdl.add_range(MinDeliver[p], mdl.sum(InBlend[(c,p)] for c in Components), MaxDeliver[p])"
   ]
  },
  {
   "cell_type": "code",
   "execution_count": 8,
   "metadata": {},
   "outputs": [],
   "source": [
    "#Supply\n",
    "for c in Components:\n",
    "    mdl.add_constraint(mdl.sum(InBlend[(c,p)] for p in Products) <= Supply[c])"
   ]
  },
  {
   "cell_type": "code",
   "execution_count": 9,
   "metadata": {},
   "outputs": [],
   "source": [
    "# min octane rating (blending constraints)\n",
    "for p in Products:\n",
    "    mdl.add_constraint(mdl.sum((Rating[c]-MinRating[p])*InBlend[(c,p)] for c in Components) >= 0)"
   ]
  },
  {
   "cell_type": "code",
   "execution_count": 10,
   "metadata": {},
   "outputs": [
    {
     "data": {
      "text/plain": [
       "docplex.mp.solution.SolveSolution(obj=2.97e+06,values={InBlend_C4_Plus:3.."
      ]
     },
     "execution_count": 10,
     "metadata": {},
     "output_type": "execute_result"
    }
   ],
   "source": [
    "mdl.solve()"
   ]
  },
  {
   "cell_type": "code",
   "execution_count": 11,
   "metadata": {},
   "outputs": [
    {
     "data": {
      "text/plain": [
       "docplex.mp.SolveDetails(time=0,status='optimal')"
      ]
     },
     "execution_count": 11,
     "metadata": {},
     "output_type": "execute_result"
    }
   ],
   "source": [
    "mdl.get_solve_details()"
   ]
  },
  {
   "cell_type": "code",
   "execution_count": 12,
   "metadata": {},
   "outputs": [
    {
     "name": "stdout",
     "output_type": "stream",
     "text": [
      "objective: 2970000.000\n",
      "status: OPTIMAL_SOLUTION(2)\n",
      "  InBlend_C4_Plus=30000.000\n",
      "  InBlend_C3_Regular=909.091\n",
      "  InBlend_C3_Plus=39090.909\n",
      "  InBlend_C2_Premium=28000.000\n",
      "  InBlend_C2_Regular=21090.909\n",
      "  InBlend_C2_Plus=909.091\n",
      "  InBlend_C1_Premium=12000.000\n",
      "  InBlend_C1_Regular=58000.000\n"
     ]
    }
   ],
   "source": [
    "mdl.print_solution()"
   ]
  },
  {
   "cell_type": "code",
   "execution_count": 13,
   "metadata": {},
   "outputs": [
    {
     "name": "stdout",
     "output_type": "stream",
     "text": [
      "* model docplex_model1 solved with objective = 2970000.000\n",
      "*  KPI: Total Revenue = 9460000.000\n",
      "*  KPI: Total Cost    = 6490000.000\n",
      "*  KPI: Total Profit  = 2970000.000\n"
     ]
    }
   ],
   "source": [
    "mdl.report()"
   ]
  },
  {
   "cell_type": "code",
   "execution_count": 14,
   "metadata": {},
   "outputs": [],
   "source": [
    "# add octane ratings as KPI\n",
    "OctaneRating = {}\n",
    "for p in Products:\n",
    "    OctaneRating[p] = sum(Rating[c]*InBlend[(c,p)].solution_value for c in Components)/sum(InBlend[(c,p)].solution_value for c in Components)\n",
    "    mdl.add_kpi(OctaneRating[p], p)"
   ]
  },
  {
   "cell_type": "code",
   "execution_count": 15,
   "metadata": {},
   "outputs": [
    {
     "name": "stdout",
     "output_type": "stream",
     "text": [
      "* model docplex_model1 solved with objective = 2970000.000\n",
      "*  KPI: Total Revenue = 9460000.000\n",
      "*  KPI: Total Cost    = 6490000.000\n",
      "*  KPI: Total Profit  = 2970000.000\n",
      "*  KPI: Premium       = 93.000\n",
      "*  KPI: Regular       = 88.625\n",
      "*  KPI: Plus          = 89.000\n"
     ]
    }
   ],
   "source": [
    "mdl.report()"
   ]
  }
 ],
 "metadata": {
  "kernelspec": {
   "display_name": "Python 3 (ipykernel)",
   "language": "python",
   "name": "python3"
  },
  "language_info": {
   "codemirror_mode": {
    "name": "ipython",
    "version": 3
   },
   "file_extension": ".py",
   "mimetype": "text/x-python",
   "name": "python",
   "nbconvert_exporter": "python",
   "pygments_lexer": "ipython3",
   "version": "3.9.16"
  }
 },
 "nbformat": 4,
 "nbformat_minor": 2
}
