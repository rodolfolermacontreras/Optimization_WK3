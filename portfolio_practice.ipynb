{
 "cells": [
  {
   "cell_type": "markdown",
   "metadata": {},
   "source": [
    "<b>Mixing/blending problem: Portfolio design</b>"
   ]
  },
  {
   "cell_type": "code",
   "execution_count": 1,
   "metadata": {},
   "outputs": [],
   "source": [
    "# Input data\n",
    "Bonds = {'A', 'B', 'C', 'D', 'E'}\n",
    "Type = {'A' : 'Muni', 'B' : 'Agency', 'C' : 'Govn', 'D' : 'Govn', 'E' : 'Muni',}\n",
    "Quality = {'A' : 2, 'B' : 2, 'C' : 1, 'D' : 1, 'E' : 5}\n",
    "Maturity = {'A' : 9, 'B' : 15, 'C' : 4, 'D' : 3, 'E' : 2}\n",
    "Yield = {'A' : 0.086, 'B' : 0.054, 'C' : 0.05, 'D' : 0.044, 'E' : 0.09}"
   ]
  },
  {
   "cell_type": "code",
   "execution_count": 2,
   "metadata": {},
   "outputs": [],
   "source": [
    "from docplex.mp.model import Model\n",
    "mdl = Model()"
   ]
  },
  {
   "cell_type": "code",
   "execution_count": 3,
   "metadata": {},
   "outputs": [],
   "source": [
    "amount = mdl.continuous_var_dict(Bonds, lb = 0, name = \"amount\")"
   ]
  },
  {
   "cell_type": "code",
   "execution_count": 4,
   "metadata": {},
   "outputs": [],
   "source": [
    "mdl.maximize(mdl.sum(Yield[b] * amount[b] for b in Bonds))"
   ]
  },
  {
   "cell_type": "code",
   "execution_count": 5,
   "metadata": {},
   "outputs": [
    {
     "data": {
      "text/plain": [
       "DecisionKPI(name=Total Invested,expr=amount_C+amount_A+amount_B+amount_E+amount_D)"
      ]
     },
     "execution_count": 5,
     "metadata": {},
     "output_type": "execute_result"
    }
   ],
   "source": [
    "TotalInvested = mdl.sum(amount[b] for b in Bonds) \n",
    "mdl.add_constraint(TotalInvested  <= 10) \n",
    "mdl.add_kpi(TotalInvested, 'Total Invested')"
   ]
  },
  {
   "cell_type": "code",
   "execution_count": 6,
   "metadata": {},
   "outputs": [
    {
     "data": {
      "text/plain": [
       "docplex.mp.LinearConstraint[](-0.400amount_C+0.600amount_A+0.600amount_B+3.600amount_E-0.400amount_D,LE,0)"
      ]
     },
     "execution_count": 6,
     "metadata": {},
     "output_type": "execute_result"
    }
   ],
   "source": [
    "#Weighted average quality at most 1.4\n",
    "mdl.add_constraint(mdl.sum((Quality[b]-1.4)*amount[b] for b in Bonds) <=0)"
   ]
  },
  {
   "cell_type": "code",
   "execution_count": 7,
   "metadata": {},
   "outputs": [
    {
     "data": {
      "text/plain": [
       "docplex.mp.LinearConstraint[](-amount_C+4amount_A+10amount_B-3amount_E-2amount_D,LE,0)"
      ]
     },
     "execution_count": 7,
     "metadata": {},
     "output_type": "execute_result"
    }
   ],
   "source": [
    "#Weighted average quality at most 1.4\n",
    "mdl.add_constraint(mdl.sum((Maturity[b]-5)*amount[b] for b in Bonds) <=0)"
   ]
  },
  {
   "cell_type": "code",
   "execution_count": 8,
   "metadata": {},
   "outputs": [
    {
     "data": {
      "text/plain": [
       "docplex.mp.LinearConstraint[](amount_A+amount_E,LE,3)"
      ]
     },
     "execution_count": 8,
     "metadata": {},
     "output_type": "execute_result"
    }
   ],
   "source": [
    "# municipal bonds at most 3\n",
    "mdl.add_constraint(mdl.sum(amount[b] for b in Bonds if Type[b]=='Muni') <= 3)"
   ]
  },
  {
   "cell_type": "code",
   "execution_count": 9,
   "metadata": {},
   "outputs": [
    {
     "data": {
      "text/plain": [
       "docplex.mp.solution.SolveSolution(obj=0.596727,values={amount_C:7.36364,.."
      ]
     },
     "execution_count": 9,
     "metadata": {},
     "output_type": "execute_result"
    }
   ],
   "source": [
    "mdl.solve()"
   ]
  },
  {
   "cell_type": "code",
   "execution_count": 10,
   "metadata": {},
   "outputs": [
    {
     "data": {
      "text/plain": [
       "docplex.mp.SolveDetails(time=0,status='optimal')"
      ]
     },
     "execution_count": 10,
     "metadata": {},
     "output_type": "execute_result"
    }
   ],
   "source": [
    "mdl.get_solve_details()"
   ]
  },
  {
   "cell_type": "code",
   "execution_count": 11,
   "metadata": {},
   "outputs": [
    {
     "name": "stdout",
     "output_type": "stream",
     "text": [
      "objective: 0.597\n",
      "status: OPTIMAL_SOLUTION(2)\n",
      "  amount_C=7.364\n",
      "  amount_A=2.182\n",
      "  amount_E=0.455\n"
     ]
    }
   ],
   "source": [
    "mdl.print_solution()"
   ]
  },
  {
   "cell_type": "code",
   "execution_count": 12,
   "metadata": {},
   "outputs": [],
   "source": [
    "# mdl.add_kpi(mdl.sum(amount[b] for b in Bonds), 'Total Invested')"
   ]
  },
  {
   "cell_type": "code",
   "execution_count": 13,
   "metadata": {},
   "outputs": [
    {
     "name": "stdout",
     "output_type": "stream",
     "text": [
      "* model docplex_model1 solved with objective = 0.597\n",
      "*  KPI: Total Invested = 10.000\n"
     ]
    }
   ],
   "source": [
    "mdl.report()"
   ]
  },
  {
   "cell_type": "code",
   "execution_count": 14,
   "metadata": {},
   "outputs": [],
   "source": [
    "AverageQuality = sum(Quality[b]*amount[b].solution_value for b in Bonds)/sum(amount[b].solution_value for b in Bonds)"
   ]
  },
  {
   "cell_type": "code",
   "execution_count": 15,
   "metadata": {},
   "outputs": [],
   "source": [
    "AverageMaturity = sum(Maturity[b]*amount[b].solution_value for b in Bonds)/sum(amount[b].solution_value for b in Bonds)"
   ]
  },
  {
   "cell_type": "code",
   "execution_count": 16,
   "metadata": {},
   "outputs": [
    {
     "data": {
      "text/plain": [
       "DecisionKPI(name=Average Maturity,expr=4.999999999999999)"
      ]
     },
     "execution_count": 16,
     "metadata": {},
     "output_type": "execute_result"
    }
   ],
   "source": [
    "mdl.add_kpi(AverageQuality, 'Average Quality')\n",
    "mdl.add_kpi(AverageMaturity, 'Average Maturity')"
   ]
  },
  {
   "cell_type": "code",
   "execution_count": 17,
   "metadata": {},
   "outputs": [
    {
     "name": "stdout",
     "output_type": "stream",
     "text": [
      "* model docplex_model1 solved with objective = 0.597\n",
      "*  KPI: Total Invested   = 10.000\n",
      "*  KPI: Average Quality  = 1.400\n",
      "*  KPI: Average Maturity = 5.000\n"
     ]
    }
   ],
   "source": [
    "mdl.report()"
   ]
  }
 ],
 "metadata": {
  "kernelspec": {
   "display_name": "Python 3 (ipykernel)",
   "language": "python",
   "name": "python3"
  },
  "language_info": {
   "codemirror_mode": {
    "name": "ipython",
    "version": 3
   },
   "file_extension": ".py",
   "mimetype": "text/x-python",
   "name": "python",
   "nbconvert_exporter": "python",
   "pygments_lexer": "ipython3",
   "version": "3.9.16"
  }
 },
 "nbformat": 4,
 "nbformat_minor": 2
}
